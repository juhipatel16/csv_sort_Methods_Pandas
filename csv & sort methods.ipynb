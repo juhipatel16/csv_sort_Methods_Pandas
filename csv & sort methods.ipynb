{
 "cells": [
  {
   "cell_type": "code",
   "execution_count": 1,
   "id": "253bb7af",
   "metadata": {},
   "outputs": [],
   "source": [
    "import pandas as pd\n",
    "\n",
    "# For import Series with read_csv Function\n",
    "file1 = pd.read_csv(\"filename.csv\",usecols = [\"columnname\"]).squeeze(\"columns\")\n",
    "\n",
    "# Head and Tail methods to return rows from Beggining & End of DataSet\n",
    "file1.head()\n",
    "file1.head(5)\n",
    "file1.head(10)\n",
    "\n",
    "file1.tail()\n",
    "file1.tail(5)\n",
    "\n",
    "# Python Built-in Function\n",
    "len(file1)\n",
    "type(file1)\n",
    "dir(file1)\n",
    "sorted(file1)\n",
    "type(sorted(file1))\n",
    "list(file1)\n",
    "dict(file1)\n",
    "max(file1)\n",
    "min(file1)\n",
    "\n",
    "# The sort_vales methods\n",
    "file1.sort_values().head()\n",
    "file1.sort_values(ascending = True)\n",
    "file2.sort_values(ascending = False)\n",
    "\n",
    "# The sort_index methods\n",
    "pd.read_csv(\"file1.csv\", index_col = \"columnname\").squeeze(\"columns\")\n",
    "file1.sort_index()\n",
    "file1.sort_index(ascending = True)\n",
    "file1.sort_index(ascending = False)"
   ]
  },
  {
   "cell_type": "code",
   "execution_count": null,
   "id": "0a4888e8",
   "metadata": {},
   "outputs": [],
   "source": []
  }
 ],
 "metadata": {
  "kernelspec": {
   "display_name": "Python 3 (ipykernel)",
   "language": "python",
   "name": "python3"
  },
  "language_info": {
   "codemirror_mode": {
    "name": "ipython",
    "version": 3
   },
   "file_extension": ".py",
   "mimetype": "text/x-python",
   "name": "python",
   "nbconvert_exporter": "python",
   "pygments_lexer": "ipython3",
   "version": "3.9.7"
  }
 },
 "nbformat": 4,
 "nbformat_minor": 5
}
